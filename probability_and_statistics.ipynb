{
 "cells": [
  {
   "cell_type": "markdown",
   "id": "7c64b694",
   "metadata": {
    "heading_collapsed": true
   },
   "source": [
    "### Метод максимального правдоподобия\n",
    "\n",
    "$P(X_1=x_1 \\cap \\ldots \\cap X_n = x_n) = P(X_1 = x_1) \\cdot \\ldots \\cdot P(X_n = x_n) \\to \\max_p$\n",
    "\n",
    "Идея: то, что мы наблюдаем и есть наиболее вероятный исход\n",
    "\n",
    "$\n",
    "\\xi \\sim B_{p} \\\\\n",
    "P(1, 0, 0, 1) = \\,?\\\\\n",
    "p \\cdot (1-p) \\cdot (1-p) \\cdot p \\to \\max_p\n",
    "$\n",
    "Дальше просто дифференцируем и ищем максимум полученной функции, рассматривая $p$ как параметр.\n",
    "\n",
    "В непрерывном случае максимизируем логарифм функции правдоподобия, чтобы произведение распалось на сумму:\n",
    "\n",
    "$L = f_\\xi(x_1)\\cdot \\ldots \\cdot f_\\xi(x_n) \\to \\max_\\theta $\n",
    "\n",
    "$\\ln L = \\displaystyle \\sum_{i=1}^{n}\\ln f_\\xi (x_i) \\,- $ это уже maximum likelihood\n",
    "\n",
    "Для поиска ДИ полученной оценки используется тот факт, что оценки ММП распределены ассимптотически нормально:\n",
    "\n",
    "$\\hat{\\theta}_{ML} \\to N(\\theta, I^{-1}(\\theta)), \\quad$ где $I^{-1}(\\theta)$ - обратная информация Фишера\n",
    "\n",
    "$I(\\theta) = \\displaystyle -E\\left(\\frac{\\partial^2 L(\\theta)}{\\partial \\theta^2}\\right) \\\\\n",
    "\\hat{I}(\\theta) = -(\\ln L)^{''}_\\theta (\\hat{\\theta}_{ML})$\n",
    "\n",
    "Тогда ДИ для оценки: $\\left[\\hat{\\theta}_{ML} - \\tau_{\\alpha/2}\\sigma_{\\hat{\\theta}_{ML}}; \\; \\hat{\\theta}_{ML} + \\tau_{\\alpha/2}\\sigma_{\\hat{\\theta}_{ML}}\n",
    "\\right], \\quad$ и не забыть, что $\\sigma_{\\hat{\\theta}_{ML}} = \\sqrt{\\hat{I}^{-1}}$"
   ]
  }
 ],
 "metadata": {
  "kernelspec": {
   "display_name": "Python 3",
   "language": "python",
   "name": "python3"
  },
  "language_info": {
   "codemirror_mode": {
    "name": "ipython",
    "version": 3
   },
   "file_extension": ".py",
   "mimetype": "text/x-python",
   "name": "python",
   "nbconvert_exporter": "python",
   "pygments_lexer": "ipython3",
   "version": "3.9.6"
  },
  "latex_envs": {
   "LaTeX_envs_menu_present": true,
   "autoclose": true,
   "autocomplete": false,
   "bibliofile": "biblio.bib",
   "cite_by": "apalike",
   "current_citInitial": 1,
   "eqLabelWithNumbers": true,
   "eqNumInitial": 1,
   "hotkeys": {
    "equation": "Ctrl-E",
    "itemize": "Ctrl-I"
   },
   "labels_anchors": false,
   "latex_user_defs": false,
   "report_style_numbering": false,
   "user_envs_cfg": false
  },
  "toc": {
   "base_numbering": 1,
   "nav_menu": {},
   "number_sections": true,
   "sideBar": true,
   "skip_h1_title": false,
   "title_cell": "Table of Contents",
   "title_sidebar": "Contents",
   "toc_cell": false,
   "toc_position": {},
   "toc_section_display": true,
   "toc_window_display": false
  }
 },
 "nbformat": 4,
 "nbformat_minor": 5
}
