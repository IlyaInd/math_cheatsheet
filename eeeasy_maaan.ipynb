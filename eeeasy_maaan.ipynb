{
 "cells": [
  {
   "cell_type": "markdown",
   "id": "a99bacac",
   "metadata": {},
   "source": [
    "Some of this fucking bullshit:\n",
    "\n",
    "$$\n",
    "\\frac{a}{b} = \\int_{p}^{q}f(x)dx\n",
    "$$"
   ]
  },
  {
   "cell_type": "markdown",
   "id": "8488d266",
   "metadata": {},
   "source": [
    "$$\n",
    "\\begin{align*}\n",
    "    x_{1} = &\\frac{-b + \\sqrt{b^2-4ac})} {2a} = \n",
    "\\frac{(-b + \\sqrt{b^2-4ac})(-b - \\sqrt{b^2-4ac})} {2a(-b - \\sqrt{b^2-4ac})} = \\\\\n",
    "&\\frac{b^2 - (b^2-4ac)} {2a(-b - \\sqrt{b^2-4ac})} =  \\frac{4ac} {-2a(b + \\sqrt{b^2-4ac})} = \n",
    "\\frac{-2c} {b+\\sqrt{b^2-4ac}} \\xrightarrow{a\\to0}\n",
    "\\frac{-2c} {b + |b|}\n",
    "\\end{align*}\n",
    "$$"
   ]
  }
 ],
 "metadata": {
  "kernelspec": {
   "display_name": "Python 3",
   "language": "python",
   "name": "python3"
  },
  "language_info": {
   "codemirror_mode": {
    "name": "ipython",
    "version": 3
   },
   "file_extension": ".py",
   "mimetype": "text/x-python",
   "name": "python",
   "nbconvert_exporter": "python",
   "pygments_lexer": "ipython3",
   "version": "3.9.6"
  },
  "toc": {
   "base_numbering": 1,
   "nav_menu": {},
   "number_sections": true,
   "sideBar": true,
   "skip_h1_title": false,
   "title_cell": "Table of Contents",
   "title_sidebar": "Contents",
   "toc_cell": false,
   "toc_position": {},
   "toc_section_display": true,
   "toc_window_display": false
  }
 },
 "nbformat": 4,
 "nbformat_minor": 5
}
