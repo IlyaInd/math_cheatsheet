{
 "cells": [
  {
   "cell_type": "markdown",
   "id": "e5c18b0c",
   "metadata": {},
   "source": [
    "LaTeX cheatsheets:\n",
    "- https://users.dickinson.edu/~richesod/latex/latexcheatsheet.pdf  - short\n",
    "- https://www.caam.rice.edu/~heinken/latex/symbols.pdf  - large\n",
    "- https://latex.wikia.org/wiki/Matrix_environments"
   ]
  },
  {
   "cell_type": "markdown",
   "id": "d64196a7",
   "metadata": {},
   "source": [
    "## Собственные числа и вектора\n",
    "\n",
    "* $\\displaystyle \\sum_i \\lambda_i  = tr A$ - сумма всех с.з. оператора равна сумме элементов следа матрицы\n",
    "\n",
    "\n",
    "* $\\displaystyle \\prod \\lambda_i = \\det A$\n",
    "\n",
    "\n",
    "* $A_{nxn}$ имеет $n$ различных с.з. $\\implies A$ диагонализуема (но не наоборот!) \n",
    "\n",
    "\n",
    "* Если $\\lambda$ — с.з. матрицы $A$, то с.з. матрицы $A^k$ является число $\\lambda^k$, а соответствующие собственные векторы совпадают.\n",
    "\n",
    "\n",
    "*  С. з. матриц  $A$ и $A^T$ совпадают.\n",
    "\n",
    "\n",
    "* Собственные векторы, отвечающие различным собственным значениям, независимы и ортогональны."
   ]
  },
  {
   "cell_type": "markdown",
   "id": "419585b3",
   "metadata": {},
   "source": [
    "## Определения\n",
    "\n",
    "* Вырожденная (сингулярная, особенная) матрица — квадратная матрица $A$, определитель которой равен нулю. "
   ]
  },
  {
   "cell_type": "markdown",
   "id": "7f67b76b",
   "metadata": {},
   "source": [
    "## Прочее\n",
    "\n",
    "* $tr (A+B) = tr A + tr B$\n",
    "* $tr (AB) = tr (BA)$"
   ]
  }
 ],
 "metadata": {
  "kernelspec": {
   "display_name": "Python 3",
   "language": "python",
   "name": "python3"
  },
  "language_info": {
   "codemirror_mode": {
    "name": "ipython",
    "version": 3
   },
   "file_extension": ".py",
   "mimetype": "text/x-python",
   "name": "python",
   "nbconvert_exporter": "python",
   "pygments_lexer": "ipython3",
   "version": "3.9.6"
  },
  "latex_envs": {
   "LaTeX_envs_menu_present": true,
   "autoclose": true,
   "autocomplete": true,
   "bibliofile": "biblio.bib",
   "cite_by": "apalike",
   "current_citInitial": 1,
   "eqLabelWithNumbers": true,
   "eqNumInitial": 1,
   "hotkeys": {
    "equation": "Ctrl-E",
    "itemize": "Ctrl-I"
   },
   "labels_anchors": false,
   "latex_user_defs": false,
   "report_style_numbering": false,
   "user_envs_cfg": false
  },
  "toc": {
   "base_numbering": 1,
   "nav_menu": {},
   "number_sections": true,
   "sideBar": true,
   "skip_h1_title": false,
   "title_cell": "Table of Contents",
   "title_sidebar": "Contents",
   "toc_cell": false,
   "toc_position": {},
   "toc_section_display": true,
   "toc_window_display": false
  }
 },
 "nbformat": 4,
 "nbformat_minor": 5
}
